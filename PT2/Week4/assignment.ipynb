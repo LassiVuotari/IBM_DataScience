{
  "metadata": {
    "language_info": {
      "codemirror_mode": {
        "name": "python",
        "version": 3
      },
      "file_extension": ".py",
      "mimetype": "text/x-python",
      "name": "python",
      "nbconvert_exporter": "python",
      "pygments_lexer": "ipython3",
      "version": "3.8"
    },
    "kernelspec": {
      "name": "python",
      "display_name": "Pyolite",
      "language": "python"
    }
  },
  "nbformat_minor": 4,
  "nbformat": 4,
  "cells": [
    {
      "cell_type": "markdown",
      "source": "# My Jupyter Notebook on IBM Watson Studio",
      "metadata": {}
    },
    {
      "cell_type": "markdown",
      "source": "__Lassi Vuotari__\n\nAnalyst",
      "metadata": {}
    },
    {
      "cell_type": "markdown",
      "source": "*Data seems like untapped potential. That's why data science is interesting to me.*",
      "metadata": {}
    },
    {
      "cell_type": "markdown",
      "source": "### The following code solves how many ice creams I will own after buying one twice.",
      "metadata": {}
    },
    {
      "cell_type": "code",
      "source": "1+1",
      "metadata": {
        "trusted": true
      },
      "execution_count": 6,
      "outputs": [
        {
          "execution_count": 6,
          "output_type": "execute_result",
          "data": {
            "text/plain": "2"
          },
          "metadata": {}
        }
      ]
    },
    {
      "cell_type": "markdown",
      "source": "---\n\n1. vanilla\n2. chocolate\n\n- sprinkles\n- ",
      "metadata": {}
    }
  ]
}